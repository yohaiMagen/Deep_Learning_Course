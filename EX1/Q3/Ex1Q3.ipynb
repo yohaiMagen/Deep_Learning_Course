{
 "cells": [
  {
   "cell_type": "code",
   "execution_count": 1,
   "metadata": {},
   "outputs": [],
   "source": [
    "import torch\n",
    "import torch.nn as nn\n",
    "import torch.nn.functional as F\n",
    "import torch.optim as optim\n",
    "import csv\n",
    "import pandas as pd\n",
    "import numpy as np\n",
    "import matplotlib.pyplot as plt"
   ]
  },
  {
   "cell_type": "code",
   "execution_count": 2,
   "metadata": {},
   "outputs": [],
   "source": [
    "device = torch.device(\"cuda:0\" if torch.cuda.is_available() else \"cpu\")\n",
    "device = torch.device(\"cpu\")"
   ]
  },
  {
   "cell_type": "code",
   "execution_count": 3,
   "metadata": {},
   "outputs": [],
   "source": [
    "def eval(model, data, labels):\n",
    "    predicted = model(data)\n",
    "    errors = F.mse_loss(predicted, labels)\n",
    "    return float(errors) / predicted.shape[0]\n",
    "\n",
    "class Net(nn.Module):\n",
    "    def __init__(self, input_dim, output_dimension, hidden):\n",
    "        super(Net, self).__init__()\n",
    "        self.fc1 = nn.Linear(input_dim, hidden)\n",
    "        self.fc2 = nn.Linear(hidden, output_dimension)\n",
    "\n",
    "    def forward(self, x):\n",
    "        x = self.fc1(x)\n",
    "        x = Net._requ(x)\n",
    "        x = self.fc2(x)\n",
    "        return F.log_softmax(x, dim=1)\n",
    "\n",
    "    @staticmethod\n",
    "    def _requ(x):\n",
    "        return F.relu(x).pow(2)"
   ]
  },
  {
   "cell_type": "code",
   "execution_count": 4,
   "metadata": {},
   "outputs": [],
   "source": [
    "switcher = {\n",
    "    'Iris-setosa': 0,\n",
    "    'Iris-versicolor': 1,\n",
    "    'Iris-virginica': 2\n",
    "}\n",
    "\n",
    "train_input = []\n",
    "train_labels = []\n",
    "\n",
    "# loading data\n",
    "data_frame = pd.read_csv('/home/nivkeren/PycharmProjects/Deep_Learning_Course/EX1/Q3/training.csv', sep=',').dropna()\n",
    "Y = (data_frame.iloc[:, 0:-1].values / 48) - 1\n",
    "\n",
    "img_df = data_frame.iloc[:, -1]\n",
    "\n",
    "img_df.to_csv('.img.csv', index=False)\n",
    "X = pd.read_csv('.img.csv', sep=' ', header=None).values / 255"
   ]
  },
  {
   "cell_type": "code",
   "execution_count": 5,
   "metadata": {},
   "outputs": [
    {
     "name": "stdout",
     "output_type": "stream",
     "text": [
      "[[66.03356391 39.00227368]\n",
      " [30.22700752 36.4216782 ]\n",
      " [59.58207519 39.64742256]\n",
      " [73.13034586 39.96999699]\n",
      " [36.35657143 37.3894015 ]\n",
      " [23.45287218 37.3894015 ]\n",
      " [56.95326316 29.03364812]\n",
      " [80.22712782 32.22813835]\n",
      " [40.22760902 29.0023218 ]\n",
      " [16.35637895 29.64747068]\n",
      " [44.42057143 57.06680301]\n",
      " [61.19530827 79.97016541]\n",
      " [28.61449624 77.38899248]\n",
      " [43.3126015  72.93545865]\n",
      " [43.13070677 84.48577444]]\n"
     ]
    },
    {
     "data": {
      "image/png": "[encoded data removed]",
      "text/plain": [
       "<Figure size 432x288 with 1 Axes>"
      ]
     },
     "metadata": {
      "needs_background": "light"
     },
     "output_type": "display_data"
    }
   ],
   "source": [
    "Y_t = ((Y + 1) * 48).reshape(-1, 15, 2)\n",
    "print(Y_t[0])\n",
    "plt.imshow(X[101].reshape(96, 96), cmap=\"gray\")\n",
    "plt.scatter(Y_t[101, :, 0], Y_t[101, :, 1])\n",
    "plt.show()"
   ]
  },
  {
   "cell_type": "code",
   "execution_count": 6,
   "metadata": {},
   "outputs": [],
   "source": [
    "class View(nn.Module):\n",
    "    def forward(self, x):\n",
    "        return x.view(x.shape[0], -1)"
   ]
  },
  {
   "cell_type": "code",
   "execution_count": 7,
   "metadata": {},
   "outputs": [],
   "source": [
    "conv_model = nn.Sequential(nn.Conv2d(1, 32, 3),\n",
    "                           nn.MaxPool2d(2),\n",
    "                           nn.ReLU(),\n",
    "                           nn.Conv2d(32,64, 2),\n",
    "                           nn.MaxPool2d(2),\n",
    "                           nn.ReLU(),\n",
    "                           nn.Conv2d(64, 128, 2),\n",
    "                           nn.MaxPool2d(2),\n",
    "                           nn.ReLU(),\n",
    "                           View(),\n",
    "                           nn.Linear(15488, 500),\n",
    "                           nn.ReLU(),\n",
    "                           nn.Linear(500, 500),\n",
    "                           nn.ReLU(),\n",
    "                           nn.Linear(500, 30)).to(device=device)"
   ]
  },
  {
   "cell_type": "code",
   "execution_count": 8,
   "metadata": {},
   "outputs": [
    {
     "name": "stdout",
     "output_type": "stream",
     "text": [
      "torch.Size([1819, 1, 96, 96])\n"
     ]
    }
   ],
   "source": [
    "mask = np.arange(0, 2140)\n",
    "np.random.shuffle(mask)\n",
    "val_mask = mask[:int(X.shape[0] * 0.15)]\n",
    "train_mask = mask[int(X.shape[0] * 0.15):]\n",
    "X_val = torch.FloatTensor(X[val_mask]).view((-1, 1, 96, 96)).to(device=device)\n",
    "X_train = torch.FloatTensor(X[train_mask]).view((-1, 1, 96, 96)).to(device=device)\n",
    "Y_val = torch.FloatTensor(Y[val_mask]).to(device=device)\n",
    "Y_train = torch.FloatTensor(Y[train_mask]).to(device=device)\n",
    "\n",
    "print(X_train.shape)"
   ]
  },
  {
   "cell_type": "code",
   "execution_count": 9,
   "metadata": {},
   "outputs": [],
   "source": [
    "C = 1\n",
    "L = 96\n",
    "W = 96\n",
    "N = 2140\n",
    "flatten_dim = L * W\n",
    "output_dim = 30\n",
    "h = 100\n",
    "\n",
    "linear_model = torch.nn.Sequential(nn.Linear(flatten_dim, h), nn.ReLU(), nn.Linear(h, output_dim))"
   ]
  },
  {
   "cell_type": "code",
   "execution_count": null,
   "metadata": {},
   "outputs": [],
   "source": [
    "# cross_entropy = nn.CrossEntropyLoss().cuda()\n",
    "loss_fn = nn.MSELoss()\n",
    "\n",
    "optimizer = optim.Adam(linear_model.parameters(), lr=1e-2)\n",
    "# train model\n",
    "train_loss = []\n",
    "val_loss = []\n",
    "\n",
    "iteration_number = 1000\n",
    "for iteration in range(iteration_number):\n",
    "    # forward pass\n",
    "    y_pred = conv_model(X_train)\n",
    "    # Calculate Loss\n",
    "    loss = loss_fn(y_pred, Y_train)\n",
    "    # optimization\n",
    "    optimizer.zero_grad()\n",
    "    # backward propagation\n",
    "    loss.backward()\n",
    "    # Updating parameters\n",
    "    optimizer.step()\n",
    "    train_loss.append(eval(conv_model, X_train, Y_train))\n",
    "    val_loss.append(eval(conv_model, X_val, Y_val))"
   ]
  },
  {
   "cell_type": "code",
   "execution_count": null,
   "metadata": {},
   "outputs": [],
   "source": [
    "# plt.plot(np.arange(iteration_number), train_loss)\n",
    "# plt.plot(np.arange(iteration_number), val_loss)\n",
    "pred = ((conv_model(X_val) + 1) * 48).detach().numpy().reshape(-1, 15, 2)\n",
    "Y_val_t = ((Y_val + 1) * 48).numpy().reshape(-1, 15, 2)\n",
    "plt.imshow(X_val[100].numpy().reshape(96, 96), cmap=\"gray\")\n",
    "plt.scatter(pred[100, :, 0], pred[100, :, 1])\n",
    "plt.scatter(Y_val_t[100, :, 0], Y_val_t[100, :, 1])\n",
    "plt.show()\n",
    "# now predict our Xor table"
   ]
  },
  {
   "cell_type": "code",
   "execution_count": null,
   "metadata": {},
   "outputs": [],
   "source": []
  }
 ],
 "metadata": {
  "kernelspec": {
   "display_name": "Python 3",
   "language": "python",
   "name": "python3"
  },
  "language_info": {
   "codemirror_mode": {
    "name": "ipython",
    "version": 3
   },
   "file_extension": ".py",
   "mimetype": "text/x-python",
   "name": "python",
   "nbconvert_exporter": "python",
   "pygments_lexer": "ipython3",
   "version": "3.6.6"
  }
 },
 "nbformat": 4,
 "nbformat_minor": 2
}
